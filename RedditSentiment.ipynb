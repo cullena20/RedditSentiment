{
  "nbformat": 4,
  "nbformat_minor": 0,
  "metadata": {
    "colab": {
      "name": "RedditSentiment.ipynb",
      "provenance": [],
      "authorship_tag": "ABX9TyM2+6X3/ZUoyLnVrBikjHrn",
      "include_colab_link": true
    },
    "kernelspec": {
      "name": "python3",
      "display_name": "Python 3"
    }
  },
  "cells": [
    {
      "cell_type": "markdown",
      "metadata": {
        "id": "view-in-github",
        "colab_type": "text"
      },
      "source": [
        "<a href=\"https://colab.research.google.com/github/cullena20/RedditSentiment/blob/main/RedditSentiment.ipynb\" target=\"_parent\"><img src=\"https://colab.research.google.com/assets/colab-badge.svg\" alt=\"Open In Colab\"/></a>"
      ]
    },
    {
      "cell_type": "markdown",
      "metadata": {
        "id": "b457c2QEIf-6"
      },
      "source": [
        "# Reddit Sentiment Analysis!"
      ]
    },
    {
      "cell_type": "code",
      "metadata": {
        "colab": {
          "base_uri": "https://localhost:8080/"
        },
        "id": "T4Y4aLBB8EGk",
        "outputId": "8236b06b-c0eb-4e18-81ed-b13fb32b626c"
      },
      "source": [
        "from IPython import display  # control displaying of printed output in loops\n",
        "import math\n",
        "from pprint import pprint  # pretty print json and lists\n",
        "import pandas as pd\n",
        "import numpy as np\n",
        "import nltk\n",
        "import matplotlib.pyplot as plt\n",
        "import seaborn as sns\n",
        "sns.set(style='darkgrid', context='talk', palette='Dark2')\n",
        "!pip install praw\n",
        "import praw"
      ],
      "execution_count": 1,
      "outputs": [
        {
          "output_type": "stream",
          "text": [
            "Collecting praw\n",
            "\u001b[?25l  Downloading https://files.pythonhosted.org/packages/2c/15/4bcc44271afce0316c73cd2ed35f951f1363a07d4d5d5440ae5eb2baad78/praw-7.1.0-py3-none-any.whl (152kB)\n",
            "\u001b[K     |████████████████████████████████| 153kB 6.1MB/s \n",
            "\u001b[?25hCollecting update-checker>=0.17\n",
            "  Downloading https://files.pythonhosted.org/packages/0c/ba/8dd7fa5f0b1c6a8ac62f8f57f7e794160c1f86f31c6d0fb00f582372a3e4/update_checker-0.18.0-py3-none-any.whl\n",
            "Collecting websocket-client>=0.54.0\n",
            "\u001b[?25l  Downloading https://files.pythonhosted.org/packages/4c/5f/f61b420143ed1c8dc69f9eaec5ff1ac36109d52c80de49d66e0c36c3dfdf/websocket_client-0.57.0-py2.py3-none-any.whl (200kB)\n",
            "\u001b[K     |████████████████████████████████| 204kB 20.5MB/s \n",
            "\u001b[?25hCollecting prawcore<2.0,>=1.3.0\n",
            "  Downloading https://files.pythonhosted.org/packages/1d/40/b741437ce4c7b64f928513817b29c0a615efb66ab5e5e01f66fe92d2d95b/prawcore-1.5.0-py3-none-any.whl\n",
            "Requirement already satisfied: requests>=2.3.0 in /usr/local/lib/python3.6/dist-packages (from update-checker>=0.17->praw) (2.23.0)\n",
            "Requirement already satisfied: six in /usr/local/lib/python3.6/dist-packages (from websocket-client>=0.54.0->praw) (1.15.0)\n",
            "Requirement already satisfied: chardet<4,>=3.0.2 in /usr/local/lib/python3.6/dist-packages (from requests>=2.3.0->update-checker>=0.17->praw) (3.0.4)\n",
            "Requirement already satisfied: urllib3!=1.25.0,!=1.25.1,<1.26,>=1.21.1 in /usr/local/lib/python3.6/dist-packages (from requests>=2.3.0->update-checker>=0.17->praw) (1.24.3)\n",
            "Requirement already satisfied: certifi>=2017.4.17 in /usr/local/lib/python3.6/dist-packages (from requests>=2.3.0->update-checker>=0.17->praw) (2020.12.5)\n",
            "Requirement already satisfied: idna<3,>=2.5 in /usr/local/lib/python3.6/dist-packages (from requests>=2.3.0->update-checker>=0.17->praw) (2.10)\n",
            "Installing collected packages: update-checker, websocket-client, prawcore, praw\n",
            "Successfully installed praw-7.1.0 prawcore-1.5.0 update-checker-0.18.0 websocket-client-0.57.0\n"
          ],
          "name": "stdout"
        }
      ]
    },
    {
      "cell_type": "code",
      "metadata": {
        "colab": {
          "base_uri": "https://localhost:8080/"
        },
        "id": "K1hZpf2i8Zwm",
        "outputId": "2c2dbfe0-bb8c-4705-c829-68f4eac0eb62"
      },
      "source": [
        "nltk.download('vader_lexicon')"
      ],
      "execution_count": 17,
      "outputs": [
        {
          "output_type": "stream",
          "text": [
            "[nltk_data] Downloading package vader_lexicon to /root/nltk_data...\n"
          ],
          "name": "stdout"
        },
        {
          "output_type": "execute_result",
          "data": {
            "text/plain": [
              "True"
            ]
          },
          "metadata": {
            "tags": []
          },
          "execution_count": 17
        }
      ]
    },
    {
      "cell_type": "markdown",
      "metadata": {
        "id": "MzeGsbTrIkI2"
      },
      "source": [
        "## Exploring the Reddit API using PRAW"
      ]
    },
    {
      "cell_type": "markdown",
      "metadata": {
        "id": "bD11pM1p-M1E"
      },
      "source": [
        "Access the Reddit API. To do this go to https://www.reddit.com/prefs/apps/"
      ]
    },
    {
      "cell_type": "code",
      "metadata": {
        "id": "VCrvjelK8_Kf"
      },
      "source": [
        "reddit = praw.Reddit(client_id='etCTL0OgGAY1jA',\n",
        "                     client_secret='vMtYIGE5WVK8BDczKh7ZnRup3rb3ew',\n",
        "                     user_agent='Conscious-Reply-7037',\n",
        "                     username='Conscious-Reply-7037')"
      ],
      "execution_count": 2,
      "outputs": []
    },
    {
      "cell_type": "code",
      "metadata": {
        "colab": {
          "base_uri": "https://localhost:8080/"
        },
        "id": "RnC0rmmcFQBU",
        "outputId": "27394e91-a3ab-40b7-f828-2a93c7f81b19"
      },
      "source": [
        "# subreddit1 = reddit.subreddits.search_by_name('datascience', exact=True)  returns a list of search results\n",
        "subreddit = reddit.subreddit('datascience')\n",
        "print(\"Display Name:\")\n",
        "print(subreddit.display_name) \n",
        "print()\n",
        "print(\"Title:\")\n",
        "print(subreddit.title)   \n",
        "print()\n",
        "print(\"Description\")      \n",
        "print(subreddit.description) "
      ],
      "execution_count": 13,
      "outputs": [
        {
          "output_type": "execute_result",
          "data": {
            "text/plain": [
              "Subreddit(display_name='datascience')"
            ]
          },
          "metadata": {
            "tags": []
          },
          "execution_count": 13
        }
      ]
    },
    {
      "cell_type": "code",
      "metadata": {
        "colab": {
          "base_uri": "https://localhost:8080/"
        },
        "id": "4bJJQ4n4-Skx",
        "outputId": "75356eeb-5397-490a-d8e2-de8db5c2d57c"
      },
      "source": [
        "posts = set()  # use a set to clear any duplicates\n",
        "for submission in politics.new(limit=None):\n",
        "  posts.add(submission)\n",
        "  display.clear_output()  # only one output that changes\n",
        "  print(len(posts))\n",
        "posts = list(posts)  # easier to work with lists"
      ],
      "execution_count": 37,
      "outputs": [
        {
          "output_type": "stream",
          "text": [
            "905\n"
          ],
          "name": "stdout"
        }
      ]
    },
    {
      "cell_type": "code",
      "metadata": {
        "colab": {
          "base_uri": "https://localhost:8080/"
        },
        "id": "L8ScY3aqCJ2Y",
        "outputId": "4fc9dfa6-3aba-4c1d-daa2-87f0352ca3d3"
      },
      "source": [
        "post = posts[2]\n",
        "print(post.title)\n",
        "print(post.author)\n",
        "print(post.score)\n",
        "print(post.id)\n",
        "print(post.url)"
      ],
      "execution_count": 42,
      "outputs": [
        {
          "output_type": "stream",
          "text": [
            "GOP Sen. Josh Hawley was isolated 'in a corner' of a secure room 'with no one talking to him or acknowledging him' during Capitol siege: WSJ\n",
            "stem12345679\n",
            "1189\n",
            "kttf9n\n",
            "https://www.businessinsider.com/josh-hawley-isolated-capitol-siege-riots-electoral-college-republican-blowback-2021-1\n"
          ],
          "name": "stdout"
        }
      ]
    },
    {
      "cell_type": "markdown",
      "metadata": {
        "id": "hx2MOqQmaSGV"
      },
      "source": [
        "## Some Text Preprocessing\n"
      ]
    },
    {
      "cell_type": "markdown",
      "metadata": {
        "id": "KSm3-lnKc1oS"
      },
      "source": [
        "Preprocess the data by tokenizing it."
      ]
    },
    {
      "cell_type": "markdown",
      "metadata": {
        "id": "BL0zhdT9frvI"
      },
      "source": [
        "We will first use word_tokenize from nltk."
      ]
    },
    {
      "cell_type": "code",
      "metadata": {
        "colab": {
          "base_uri": "https://localhost:8080/"
        },
        "id": "pN9Kua6-aVSY",
        "outputId": "a8fde5e4-1aaa-4a5e-c805-39cda005d8c5"
      },
      "source": [
        "from nltk.tokenize import word_tokenize\n",
        "from nltk.corpus import stopwords\n",
        "nltk.download('punkt')  # needed for word_tokenize\n",
        "nltk.download('stopwords')\n",
        "\n",
        "stop_words = stopwords.words('english')"
      ],
      "execution_count": 145,
      "outputs": [
        {
          "output_type": "stream",
          "text": [
            "[nltk_data] Downloading package punkt to /root/nltk_data...\n",
            "[nltk_data]   Unzipping tokenizers/punkt.zip.\n",
            "[nltk_data] Downloading package stopwords to /root/nltk_data...\n",
            "[nltk_data]   Package stopwords is already up-to-date!\n"
          ],
          "name": "stdout"
        }
      ]
    },
    {
      "cell_type": "markdown",
      "metadata": {
        "id": "tpnICkufhb6O"
      },
      "source": [
        "Another method to split up article into sentences and them average the positive and negative scores."
      ]
    },
    {
      "cell_type": "code",
      "metadata": {
        "colab": {
          "base_uri": "https://localhost:8080/"
        },
        "id": "8-w4oy3Xgm9O",
        "outputId": "98a39153-a16f-4a39-b00b-a16427a4be88"
      },
      "source": [
        "from nltk.tokenize import sent_tokenize, word_tokenize\n",
        "article = \"Google staff awoke on Wednesday to surprising news: Their company is working on a search app tailored, and censored, for China. The project, kept secret from all but select teams and leaders, sparked a furious internal debate. Yet the move couldn’t have been entirely surprising for Googlers.\"\n",
        "article_tokenized = sent_tokenize(article)\n",
        "\n",
        "print(article_tokenized)\n",
        "neg_scores = []\n",
        "pos_scores = []\n",
        "for i in article_tokenized:\n",
        "    print(sia.polarity_scores(i))\n",
        "    neg_scores.append(sia.polarity_scores(i)['neg'])\n",
        "    pos_scores.append(sia.polarity_scores(i)['pos'])"
      ],
      "execution_count": 158,
      "outputs": [
        {
          "output_type": "stream",
          "text": [
            "['Google staff awoke on Wednesday to surprising news: Their company is working on a search app tailored, and censored, for China.', 'The project, kept secret from all but select teams and leaders, sparked a furious internal debate.', 'Yet the move couldn’t have been entirely surprising for Googlers.']\n",
            "{'neg': 0.074, 'neu': 0.829, 'pos': 0.097, 'compound': 0.128}\n",
            "{'neg': 0.265, 'neu': 0.735, 'pos': 0.0, 'compound': -0.7227}\n",
            "{'neg': 0.0, 'neu': 0.79, 'pos': 0.21, 'compound': 0.3384}\n"
          ],
          "name": "stdout"
        }
      ]
    },
    {
      "cell_type": "markdown",
      "metadata": {
        "id": "WesNJ7HpgbUJ"
      },
      "source": [
        "I found this code on Github. Let's try it out.\n",
        "Update: word_tokenize works better"
      ]
    },
    {
      "cell_type": "code",
      "metadata": {
        "id": "CxHrEIegfeJ9"
      },
      "source": [
        "# !pip install git+https://github.com/erikavaris/tokenizer.git\n",
        "# from tokenizer import tokenizer\n",
        "# R = tokenizer.RedditTokenizer()"
      ],
      "execution_count": null,
      "outputs": []
    },
    {
      "cell_type": "code",
      "metadata": {
        "colab": {
          "base_uri": "https://localhost:8080/"
        },
        "id": "4TcYoIrBfDCR",
        "outputId": "e81997d9-c0d5-4e58-c802-ceb4da8bad66"
      },
      "source": [
        "sentence = \"yo whats up /u/MrJones?! Check out r/spacedicks!\"\n",
        "print(word_tokenize(sentence))\n",
        "# print(R.tokenize(sentence))"
      ],
      "execution_count": 153,
      "outputs": [
        {
          "output_type": "stream",
          "text": [
            "['yo', 'whats', 'up', '/u/MrJones', '?', '!', 'Check', 'out', 'r/spacedicks', '!']\n"
          ],
          "name": "stdout"
        }
      ]
    },
    {
      "cell_type": "code",
      "metadata": {
        "id": "wrYZpLGxaUg9"
      },
      "source": [
        "# import spacy\n",
        "# from spacy.lang.en.stop_words import STOP_WORDS\n",
        "# !python -m spacy download en_core_web_md\n",
        "# import en_core_web_md\n",
        "# nlp = en_core_web_md.load()\n",
        "\n",
        "# def tokenize_vecs(text):\n",
        "#     clean_tokens = []\n",
        "#     for token in nlp(text):\n",
        "#         if (not token.is_stop) and (token.lemma_ != '-PRON-') and (not token.is_punct): \n",
        "#           # -PRON- is a special all inclusive \"lemma\" spaCy uses for any pronoun, we want to exclude these \n",
        "#             clean_tokens.append(token)\n",
        "#     return clean_tokens\n",
        "\n",
        "# def word2vec(x):\n",
        "#   word2vec = []\n",
        "#   for text in x:\n",
        "#     review = tokenize_vecs(text)\n",
        "#     review_average = 0\n",
        "#     for word in review:\n",
        "#       word = word.vector\n",
        "#       review_average += word\n",
        "#     review_average /= len(review)\n",
        "#     word2vec.append(review_average)\n",
        "\n",
        "#   return np.array(word2vec)\n",
        "#   sentence = \"This food was great but the service was only okay\"\n",
        "\n",
        "# tokenize_vecs(sentence)"
      ],
      "execution_count": 118,
      "outputs": []
    },
    {
      "cell_type": "markdown",
      "metadata": {
        "id": "NsXhLQnQIoz0"
      },
      "source": [
        "## Basic Sentiment Analysis Using Pretrained Models\n"
      ]
    },
    {
      "cell_type": "markdown",
      "metadata": {
        "id": "uMG0DhInVLz9"
      },
      "source": [
        "For now, we will explore various pretrained models that detect negative and positive sentiment. Alternativley, we could train our own model using a dataset and sklearn. However, this will do for now."
      ]
    },
    {
      "cell_type": "code",
      "metadata": {
        "id": "NPV6VqnJTQoS"
      },
      "source": [
        "from nltk.sentiment.vader import SentimentIntensityAnalyzer as SIA\n",
        "sia = SIA()\n",
        "from textblob import TextBlob\n",
        "!pip install flair\n",
        "import flair\n",
        "flair_sentiment = flair.models.TextClassifier.load('en-sentiment')"
      ],
      "execution_count": null,
      "outputs": []
    },
    {
      "cell_type": "code",
      "metadata": {
        "colab": {
          "base_uri": "https://localhost:8080/"
        },
        "id": "3Fx_Qjw8TTcA",
        "outputId": "01758c2f-4e96-4782-813d-744a10c9d352"
      },
      "source": [
        "sentence = \"This food was great but the service was only okay\"\n",
        "print(\"NLTK VADER\")\n",
        "print(sia.polarity_scores(sentence))\n",
        "print()\n",
        "print(\"Text Blob:\")\n",
        "print(TextBlob(sentence).sentiment)\n",
        "print()\n",
        "print(\"Flair:\")\n",
        "s = flair.data.Sentence(sentence)\n",
        "flair_sentiment.predict(s)\n",
        "total_sentiment = s.labels\n",
        "print(total_sentiment)"
      ],
      "execution_count": 138,
      "outputs": [
        {
          "output_type": "stream",
          "text": [
            "NLTK VADER\n",
            "{'neg': 0.0, 'neu': 0.62, 'pos': 0.38, 'compound': 0.5994}\n",
            "\n",
            "Text Blob:\n",
            "Sentiment(polarity=0.43333333333333335, subjectivity=0.75)\n",
            "\n",
            "Flair:\n",
            "[POSITIVE (0.5546)]\n"
          ],
          "name": "stdout"
        }
      ]
    },
    {
      "cell_type": "markdown",
      "metadata": {
        "id": "f7g1yUCKdiXi"
      },
      "source": [
        "So none of these models are making use of the word vectors I believe. So scrap this and worry about removing stop words and stuff instead."
      ]
    },
    {
      "cell_type": "code",
      "metadata": {
        "colab": {
          "base_uri": "https://localhost:8080/"
        },
        "id": "Mec1LeIdcRA_",
        "outputId": "3008e847-c9dd-4e97-cccb-e669db1b06ca"
      },
      "source": [
        "# token_sentence = tokenize_vecs(sentence)\n",
        "# token_sentence = str(token_sentence)\n",
        "# print(\"NLTK VADER\")\n",
        "# print(sia.polarity_scores(token_sentence))\n",
        "# print()\n",
        "# print(\"Text Blob:\")\n",
        "# print(TextBlob(token_sentence).sentiment)\n",
        "# print()\n",
        "# print(\"Flair:\")\n",
        "# s = flair.data.Sentence(token_sentence)\n",
        "# flair_sentiment.predict(s)\n",
        "# total_sentiment = s.labels\n",
        "# print(total_sentiment)"
      ],
      "execution_count": 139,
      "outputs": [
        {
          "output_type": "stream",
          "text": [
            "NLTK VADER\n",
            "{'neg': 0.0, 'neu': 0.423, 'pos': 0.577, 'compound': 0.6249}\n",
            "\n",
            "Text Blob:\n",
            "Sentiment(polarity=0.65, subjectivity=0.625)\n",
            "\n",
            "Flair:\n",
            "[POSITIVE (0.8358)]\n"
          ],
          "name": "stdout"
        }
      ]
    },
    {
      "cell_type": "code",
      "metadata": {
        "colab": {
          "base_uri": "https://localhost:8080/"
        },
        "id": "3eslGmTm-7By",
        "outputId": "1a00d539-cbbd-4fd5-a94d-2cea4f142f34"
      },
      "source": [
        "results = list()\n",
        "\n",
        "for post in posts:\n",
        "    pol_score = sia.polarity_scores(post.title)\n",
        "    pol_score['headline'] = post.title\n",
        "    results.append(pol_score)\n",
        "\n",
        "pprint(results[:3], width=100)  # pretty print"
      ],
      "execution_count": 52,
      "outputs": [
        {
          "output_type": "stream",
          "text": [
            "[{'compound': -0.7184,\n",
            "  'headline': 'Google Play suspends Parler for failure to moderate posts that incite violence - '\n",
            "              'CBS News',\n",
            "  'neg': 0.356,\n",
            "  'neu': 0.529,\n",
            "  'pos': 0.115},\n",
            " {'compound': -0.2263,\n",
            "  'headline': 'Noem issues order to direct lawsuit against recreational pot',\n",
            "  'neg': 0.192,\n",
            "  'neu': 0.808,\n",
            "  'pos': 0.0},\n",
            " {'compound': -0.2732,\n",
            "  'headline': \"GOP Sen. Josh Hawley was isolated 'in a corner' of a secure room 'with no one \"\n",
            "              \"talking to him or acknowledging him' during Capitol siege: WSJ\",\n",
            "  'neg': 0.161,\n",
            "  'neu': 0.753,\n",
            "  'pos': 0.086}]\n"
          ],
          "name": "stdout"
        }
      ]
    },
    {
      "cell_type": "code",
      "metadata": {
        "colab": {
          "base_uri": "https://localhost:8080/",
          "height": 359
        },
        "id": "h4A_SvUX_78G",
        "outputId": "5dfe3928-0829-49af-aa40-7cf8cd976abc"
      },
      "source": [
        "df = pd.DataFrame.from_records(results)\n",
        "df['label'] = 0  # creates label column\n",
        "df.loc[df['compound'] > 0.2, 'label'] = 1  # if compound score is greater than 0.2 we label it as positive\n",
        "df.loc[df['compound'] < -0.2, 'label'] = -1  # if compound score is less than -0.2 we label it as positive\n",
        "df.sample(n=10,axis='rows')  # prints 10 random items from the dataframe"
      ],
      "execution_count": 62,
      "outputs": [
        {
          "output_type": "execute_result",
          "data": {
            "text/html": [
              "<div>\n",
              "<style scoped>\n",
              "    .dataframe tbody tr th:only-of-type {\n",
              "        vertical-align: middle;\n",
              "    }\n",
              "\n",
              "    .dataframe tbody tr th {\n",
              "        vertical-align: top;\n",
              "    }\n",
              "\n",
              "    .dataframe thead th {\n",
              "        text-align: right;\n",
              "    }\n",
              "</style>\n",
              "<table border=\"1\" class=\"dataframe\">\n",
              "  <thead>\n",
              "    <tr style=\"text-align: right;\">\n",
              "      <th></th>\n",
              "      <th>neg</th>\n",
              "      <th>neu</th>\n",
              "      <th>pos</th>\n",
              "      <th>compound</th>\n",
              "      <th>headline</th>\n",
              "      <th>label</th>\n",
              "    </tr>\n",
              "  </thead>\n",
              "  <tbody>\n",
              "    <tr>\n",
              "      <th>320</th>\n",
              "      <td>0.000</td>\n",
              "      <td>1.000</td>\n",
              "      <td>0.000</td>\n",
              "      <td>0.0000</td>\n",
              "      <td>Iowa GOP, Senate Democrats pick their nominees...</td>\n",
              "      <td>0</td>\n",
              "    </tr>\n",
              "    <tr>\n",
              "      <th>136</th>\n",
              "      <td>0.266</td>\n",
              "      <td>0.734</td>\n",
              "      <td>0.000</td>\n",
              "      <td>-0.4404</td>\n",
              "      <td>Biden assembling multitrillion-dollar stimulus...</td>\n",
              "      <td>-1</td>\n",
              "    </tr>\n",
              "    <tr>\n",
              "      <th>195</th>\n",
              "      <td>0.127</td>\n",
              "      <td>0.613</td>\n",
              "      <td>0.260</td>\n",
              "      <td>0.6597</td>\n",
              "      <td>Republican Attorneys General Association Encou...</td>\n",
              "      <td>1</td>\n",
              "    </tr>\n",
              "    <tr>\n",
              "      <th>649</th>\n",
              "      <td>0.250</td>\n",
              "      <td>0.671</td>\n",
              "      <td>0.079</td>\n",
              "      <td>-0.5859</td>\n",
              "      <td>Majority of Americans want Trump removed immed...</td>\n",
              "      <td>-1</td>\n",
              "    </tr>\n",
              "    <tr>\n",
              "      <th>418</th>\n",
              "      <td>0.310</td>\n",
              "      <td>0.690</td>\n",
              "      <td>0.000</td>\n",
              "      <td>-0.5574</td>\n",
              "      <td>Capitol riot was openly organized on mainstrea...</td>\n",
              "      <td>-1</td>\n",
              "    </tr>\n",
              "    <tr>\n",
              "      <th>89</th>\n",
              "      <td>0.000</td>\n",
              "      <td>1.000</td>\n",
              "      <td>0.000</td>\n",
              "      <td>0.0000</td>\n",
              "      <td>Kim Jong-un calls US ‘biggest enemy’ and says ...</td>\n",
              "      <td>0</td>\n",
              "    </tr>\n",
              "    <tr>\n",
              "      <th>732</th>\n",
              "      <td>0.255</td>\n",
              "      <td>0.745</td>\n",
              "      <td>0.000</td>\n",
              "      <td>-0.3400</td>\n",
              "      <td>An Air Force Combat Veteran Breached the Senate</td>\n",
              "      <td>-1</td>\n",
              "    </tr>\n",
              "    <tr>\n",
              "      <th>334</th>\n",
              "      <td>0.190</td>\n",
              "      <td>0.564</td>\n",
              "      <td>0.246</td>\n",
              "      <td>0.0258</td>\n",
              "      <td>It Doesn’t Look Like Trump Can Pardon Himself ...</td>\n",
              "      <td>0</td>\n",
              "    </tr>\n",
              "    <tr>\n",
              "      <th>569</th>\n",
              "      <td>0.181</td>\n",
              "      <td>0.714</td>\n",
              "      <td>0.105</td>\n",
              "      <td>-0.3818</td>\n",
              "      <td>Biden likens Ted Cruz to Nazi propagandist Goe...</td>\n",
              "      <td>-1</td>\n",
              "    </tr>\n",
              "    <tr>\n",
              "      <th>9</th>\n",
              "      <td>0.268</td>\n",
              "      <td>0.732</td>\n",
              "      <td>0.000</td>\n",
              "      <td>-0.5106</td>\n",
              "      <td>Capitol riots renew calls for D.C. to become 5...</td>\n",
              "      <td>-1</td>\n",
              "    </tr>\n",
              "  </tbody>\n",
              "</table>\n",
              "</div>"
            ],
            "text/plain": [
              "       neg    neu  ...                                           headline  label\n",
              "320  0.000  1.000  ...  Iowa GOP, Senate Democrats pick their nominees...      0\n",
              "136  0.266  0.734  ...  Biden assembling multitrillion-dollar stimulus...     -1\n",
              "195  0.127  0.613  ...  Republican Attorneys General Association Encou...      1\n",
              "649  0.250  0.671  ...  Majority of Americans want Trump removed immed...     -1\n",
              "418  0.310  0.690  ...  Capitol riot was openly organized on mainstrea...     -1\n",
              "89   0.000  1.000  ...  Kim Jong-un calls US ‘biggest enemy’ and says ...      0\n",
              "732  0.255  0.745  ...    An Air Force Combat Veteran Breached the Senate     -1\n",
              "334  0.190  0.564  ...  It Doesn’t Look Like Trump Can Pardon Himself ...      0\n",
              "569  0.181  0.714  ...  Biden likens Ted Cruz to Nazi propagandist Goe...     -1\n",
              "9    0.268  0.732  ...  Capitol riots renew calls for D.C. to become 5...     -1\n",
              "\n",
              "[10 rows x 6 columns]"
            ]
          },
          "metadata": {
            "tags": []
          },
          "execution_count": 62
        }
      ]
    },
    {
      "cell_type": "markdown",
      "metadata": {
        "id": "Hwigf8cYIyeQ"
      },
      "source": [
        "Now that we have our results, we can save them in a csv file!"
      ]
    },
    {
      "cell_type": "code",
      "metadata": {
        "id": "HljLKTcKHxZL"
      },
      "source": [
        "result_df = df[['headline', 'label']]\n",
        "result_df.to_csv('reddit_headline_sentiment.csv', mode='a', encoding='UTF-8', index=False)"
      ],
      "execution_count": 65,
      "outputs": []
    },
    {
      "cell_type": "markdown",
      "metadata": {
        "id": "awbBITlWI4B_"
      },
      "source": [
        "## Exploring Our Results"
      ]
    },
    {
      "cell_type": "code",
      "metadata": {
        "colab": {
          "base_uri": "https://localhost:8080/"
        },
        "id": "ZcXJMJu_JaYf",
        "outputId": "b6dc7061-ae20-4221-9d5b-e9d2a6c3c3a1"
      },
      "source": [
        "positive_results = df[df['label'] == 1]\n",
        "negative_results = df[df['label'] == -1]\n",
        "print(\"Postitive Results:\")\n",
        "pprint(list(positive_results['headline'])[:5]) \n",
        "print()\n",
        "print(\"Negative Results:\")\n",
        "pprint(list(negative_results['headline'])[:5]) "
      ],
      "execution_count": 76,
      "outputs": [
        {
          "output_type": "stream",
          "text": [
            "Postitive Results:\n",
            "['‘Inside job’: House Dems ask if Capitol rioters had hidden help',\n",
            " \"Lehigh University has rescinded Trump's honorary degree\",\n",
            " \"Biden says Trump skipping inauguration is 'a good thing'\",\n",
            " 'It’s a Little Late for Mike Pence to Pose as a Brave Dissenter to Donald '\n",
            " 'Trump',\n",
            " 'Trump Administration Politicized Some Intelligence on Foreign Election '\n",
            " 'Influence, Report Finds']\n",
            "\n",
            "Negative Results:\n",
            "['Google Play suspends Parler for failure to moderate posts that incite '\n",
            " 'violence - CBS News',\n",
            " 'Noem issues order to direct lawsuit against recreational pot',\n",
            " \"GOP Sen. Josh Hawley was isolated 'in a corner' of a secure room 'with no \"\n",
            " \"one talking to him or acknowledging him' during Capitol siege: WSJ\",\n",
            " \"Flashback: Trump accuses Cruz of stealing Iowa caucuses through 'fraud'\",\n",
            " 'As riot raged at Capitol, Trump tried to call senators to overturn election']\n"
          ],
          "name": "stdout"
        }
      ]
    },
    {
      "cell_type": "code",
      "metadata": {
        "colab": {
          "base_uri": "https://localhost:8080/"
        },
        "id": "Tuel0lDlKUnh",
        "outputId": "12e8c43c-489d-478c-de07-7fd35bb97af8"
      },
      "source": [
        "percentages = df.label.value_counts(normalize=True) * 100\n",
        "print(\"Count:\")\n",
        "print(df.label.value_counts())\n",
        "print()\n",
        "print(\"Percentages:\")\n",
        "print(percentages)"
      ],
      "execution_count": 83,
      "outputs": [
        {
          "output_type": "stream",
          "text": [
            "Count:\n",
            "-1    424\n",
            " 0    335\n",
            " 1    146\n",
            "Name: label, dtype: int64\n",
            "\n",
            "Percentages:\n",
            "-1    46.850829\n",
            " 0    37.016575\n",
            " 1    16.132597\n",
            "Name: label, dtype: float64\n"
          ],
          "name": "stdout"
        }
      ]
    },
    {
      "cell_type": "code",
      "metadata": {
        "colab": {
          "base_uri": "https://localhost:8080/",
          "height": 296
        },
        "id": "H74CRUr-Ktpy",
        "outputId": "317d5aa7-fc70-47a9-b63d-7d82e039b366"
      },
      "source": [
        "sns.barplot(x=percentages.index, y=percentages)\n",
        "plt.xlabel = ['Negative', 'Nuetral', 'Positive']\n",
        "plt.plot()"
      ],
      "execution_count": 88,
      "outputs": [
        {
          "output_type": "execute_result",
          "data": {
            "text/plain": [
              "[]"
            ]
          },
          "metadata": {
            "tags": []
          },
          "execution_count": 88
        },
        {
          "output_type": "display_data",
          "data": {
            "image/png": "[encoded data removed]",
            "text/plain": [
              "<Figure size 432x288 with 1 Axes>"
            ]
          },
          "metadata": {
            "tags": [],
            "needs_background": "light"
          }
        }
      ]
    },
    {
      "cell_type": "markdown",
      "metadata": {
        "id": "N-XSijy2ixGW"
      },
      "source": [
        "## More with the Reddit API"
      ]
    },
    {
      "cell_type": "markdown",
      "metadata": {
        "id": "oJbxf5QPj1_D"
      },
      "source": [
        "Let's take this a bit further and explore comments in posts!"
      ]
    },
    {
      "cell_type": "code",
      "metadata": {
        "colab": {
          "base_uri": "https://localhost:8080/"
        },
        "id": "iahy4DkiizcT",
        "outputId": "99774ff1-30ca-41f1-ad61-414f90f8f6eb"
      },
      "source": [
        "# this creates a list of comments from the post we already defined\n",
        "comments = list(post.comments)\n",
        "# pprint(vars(comments[1]))  # gives us variables for comment\n",
        "print(post.title)\n",
        "print(comments[1].author)\n",
        "print(comments[1].body)\n",
        "print(comments[1].score)  # would be nice to have model weigh this too"
      ],
      "execution_count": 179,
      "outputs": [
        {
          "output_type": "stream",
          "text": [
            "Lawmakers renew calls for DC statehood after Capitol riot\n",
            "TheArtfulDodger518\n",
            "Call and write your reps. Statehood for Puerto Rico and DC should be top priority.\n",
            "28\n"
          ],
          "name": "stdout"
        }
      ]
    },
    {
      "cell_type": "code",
      "metadata": {
        "colab": {
          "base_uri": "https://localhost:8080/"
        },
        "id": "2FccBkYFk_bX",
        "outputId": "48ee517b-880f-43c0-fc35-c429d44c45ec"
      },
      "source": [
        "! python -- version"
      ],
      "execution_count": 184,
      "outputs": [
        {
          "output_type": "stream",
          "text": [
            "Python 3.6.9\n"
          ],
          "name": "stdout"
        }
      ]
    }
  ]
}